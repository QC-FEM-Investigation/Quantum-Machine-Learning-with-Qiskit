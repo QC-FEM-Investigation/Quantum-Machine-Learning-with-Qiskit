{
 "cells": [
  {
   "cell_type": "markdown",
   "id": "strong-retailer",
   "metadata": {},
   "source": [
    "# Variational Quantum Eigensolver\n",
    "\n",
    "This is a method used to find the quantum states of a quantum system using variational methods. Such as those used in analytical mechanics when you are minimizing the variation of an action. In this case we are going to use this method to find the ground state energy of a molecule following the [tutorial](https://pennylane.ai/qml/demos/tutorial_vqe.html) offered by Xanadú using PennyLane.\n",
    "\n",
    "In this example we are going to find the ground state wave function of the $H_2$ hydrogen molecule. This is going to be done starting from the ansatz $|\\Psi\\rangle = \\alpha|1100\\rangle + \\beta|0011\\rangle$. The obtention of this function is not clear for me at this moment. What I know is that this state will conserve certain type of antisymmetry since the two electrons involved must be represented by an antisymetrical function. This quantum state contemplates the spin state of the electrons and the orbitals that they are occupying, I think that is the reason why there are 4 quantum numbers.\n",
    "\n",
    "Now that we have an ansatz PennyLane is going to optimize the parameters $\\alpha$ and $\\beta$ in order to minimize the energy of the ground stated.\n"
   ]
  },
  {
   "cell_type": "markdown",
   "id": "double-dover",
   "metadata": {},
   "source": [
    "## Build the electronic Hamiltonian\n",
    "\n",
    "We import some libraries"
   ]
  },
  {
   "cell_type": "code",
   "execution_count": 8,
   "id": "olympic-trailer",
   "metadata": {},
   "outputs": [],
   "source": [
    "import pennylane as qml\n",
    "from pennylane import qchem\n",
    "from pennylane import numpy as np"
   ]
  },
  {
   "cell_type": "markdown",
   "id": "operational-tackle",
   "metadata": {},
   "source": [
    "Now we have to specify the properties of the molecular state that we want to calculate. For this we have to provide three thing:\n",
    "- The geometry\n",
    "    This implies that we have to specify the coordinates in space of the atoms that compose the molecule of interest. This can be done using an special type of file for chemistry with extension `.xyz`. This file contains a table of the coordinates of the molecule's atoms. There are several databases of this files. Personally I liked [SMART-SNS](http://smart.sns.it/molecules/) because it shows you the position of the atoms in space and you can easily rotate the structure in order to visualize the molecule.\n",
    "    \n",
    "- The charge\n",
    "    This charge represents the (integer) number of electrons that where added or removed from the neutral molecule. This could vary but, in most of the cases, the charge number will be 0.\n",
    "    \n",
    "- The multiplicity\n",
    "    Corresponds to the multiplicity of a degenerated energy level due to the spin states of the unpaired electrons in the molecule. It is defined in terms of the total spin angular momentum $S$ as $M = 2S + 1$. This represents all the possible spin states of the molecule, then, these states are degenerated states because they have the same energy. In this case all electrons are paired so the spin of these electrons is $0$, then, multiplicity is $1$.\n"
   ]
  },
  {
   "cell_type": "code",
   "execution_count": 4,
   "id": "seventh-somerset",
   "metadata": {},
   "outputs": [],
   "source": [
    "## Import the geometry file\n",
    "geometry = \"VQE_files/h2.xyz\"\n",
    "\n",
    "## Define the charge of unpaired electrons\n",
    "charge = 0\n",
    "\n",
    "## Define the multiplicity\n",
    "multiplicity = 1"
   ]
  },
  {
   "cell_type": "markdown",
   "id": "cosmetic-silence",
   "metadata": {},
   "source": [
    "There is an additional information that we have to provide to the algorithm. We have to specify the basis set used to approximate the atomic orbitals. This is a set of function that we can use to represent the wave function of the electrons in orther to turn the differential equation of the model into an algebraic equation using the Hartree-Fock approximation. In this case we are using the minimal basis STO-3g where a set of 3 gaussians (3g) represent an atomic Slater-type orbital (STO). That is why is called STO-3g."
   ]
  },
  {
   "cell_type": "code",
   "execution_count": 5,
   "id": "latter-measurement",
   "metadata": {},
   "outputs": [],
   "source": [
    "basis_set = 'sto-3g'"
   ]
  },
  {
   "cell_type": "markdown",
   "id": "mediterranean-stick",
   "metadata": {},
   "source": [
    "Now we have to compute the Hamiltonian of the molecule in the Pauli basis. This can be done using the PennyLane function `molecular_hamiltonian()`. The arguments of this function are the parameters that we have already specify with the additional information of the fermionic-to-qubit mapping. This maps quantum creation and annihilation operators into computational operators. For this example we are using the Jordan-Wigner transformation."
   ]
  },
  {
   "cell_type": "code",
   "execution_count": 9,
   "id": "atlantic-queens",
   "metadata": {},
   "outputs": [
    {
     "ename": "ImportError",
     "evalue": "PennyLane-QChem not installed. \n\nTo access the qchem module, you can install PennyLane-QChem via pip:\n\npip install pennylane-qchem\n\nFor more details, see the quantum chemistry documentation:\nhttps://pennylane.readthedocs.io/en/stable/introduction/chemistry.html",
     "output_type": "error",
     "traceback": [
      "\u001b[0;31m---------------------------------------------------------------------------\u001b[0m",
      "\u001b[0;31mImportError\u001b[0m                               Traceback (most recent call last)",
      "\u001b[0;32m<ipython-input-9-f6a499ce9782>\u001b[0m in \u001b[0;36m<module>\u001b[0;34m\u001b[0m\n\u001b[1;32m      1\u001b[0m \u001b[0;31m## Here we extract the information of the xyz file\u001b[0m\u001b[0;34m\u001b[0m\u001b[0;34m\u001b[0m\u001b[0;34m\u001b[0m\u001b[0m\n\u001b[0;32m----> 2\u001b[0;31m \u001b[0msymbols\u001b[0m\u001b[0;34m,\u001b[0m \u001b[0mcoordinates\u001b[0m \u001b[0;34m=\u001b[0m \u001b[0mqchem\u001b[0m\u001b[0;34m.\u001b[0m\u001b[0mread_structure\u001b[0m\u001b[0;34m(\u001b[0m\u001b[0mgeometry\u001b[0m\u001b[0;34m)\u001b[0m\u001b[0;34m\u001b[0m\u001b[0;34m\u001b[0m\u001b[0m\n\u001b[0m\u001b[1;32m      3\u001b[0m \u001b[0;34m\u001b[0m\u001b[0m\n\u001b[1;32m      4\u001b[0m \u001b[0;31m## Now we compute the Hamiltonian and the ammount of qubits needed to simulate the molecule\u001b[0m\u001b[0;34m\u001b[0m\u001b[0;34m\u001b[0m\u001b[0;34m\u001b[0m\u001b[0m\n\u001b[1;32m      5\u001b[0m h, qubits = qchem.molecular_hamiltonian(\n",
      "\u001b[0;32m~/.local/lib/python3.8/site-packages/pennylane/__init__.py\u001b[0m in \u001b[0;36m__getattr__\u001b[0;34m(self, name)\u001b[0m\n\u001b[1;32m    103\u001b[0m \u001b[0;34m\u001b[0m\u001b[0m\n\u001b[1;32m    104\u001b[0m     \u001b[0;32mdef\u001b[0m \u001b[0m__getattr__\u001b[0m\u001b[0;34m(\u001b[0m\u001b[0mself\u001b[0m\u001b[0;34m,\u001b[0m \u001b[0mname\u001b[0m\u001b[0;34m)\u001b[0m\u001b[0;34m:\u001b[0m\u001b[0;34m\u001b[0m\u001b[0;34m\u001b[0m\u001b[0m\n\u001b[0;32m--> 105\u001b[0;31m         \u001b[0;32mraise\u001b[0m \u001b[0mImportError\u001b[0m\u001b[0;34m(\u001b[0m\u001b[0mself\u001b[0m\u001b[0;34m.\u001b[0m\u001b[0merror_msg\u001b[0m\u001b[0;34m)\u001b[0m \u001b[0;32mfrom\u001b[0m \u001b[0;32mNone\u001b[0m\u001b[0;34m\u001b[0m\u001b[0;34m\u001b[0m\u001b[0m\n\u001b[0m\u001b[1;32m    106\u001b[0m \u001b[0;34m\u001b[0m\u001b[0m\n\u001b[1;32m    107\u001b[0m     \u001b[0m__repr__\u001b[0m \u001b[0;34m=\u001b[0m \u001b[0m__str__\u001b[0m\u001b[0;34m\u001b[0m\u001b[0;34m\u001b[0m\u001b[0m\n",
      "\u001b[0;31mImportError\u001b[0m: PennyLane-QChem not installed. \n\nTo access the qchem module, you can install PennyLane-QChem via pip:\n\npip install pennylane-qchem\n\nFor more details, see the quantum chemistry documentation:\nhttps://pennylane.readthedocs.io/en/stable/introduction/chemistry.html"
     ]
    }
   ],
   "source": [
    "## Here we extract the information of the xyz file\n",
    "symbols, coordinates = qchem.read_structure(geometry)\n",
    "\n",
    "## Now we compute the Hamiltonian and the ammount of qubits needed to simulate the molecule\n",
    "h, qubits = qchem.molecular_hamiltonian(\n",
    "symbols,\n",
    "coordinates,\n",
    "charge = charge,\n",
    "mult = multiplicity,\n",
    "basis = basis_set,\n",
    "active_electrond = 2,\n",
    "active_orbitals = 2,\n",
    "mapping = 'jordan_wigner')\n",
    "\n",
    "print('Number of qubits = ',qubits)\n",
    "print('Hamiltonian is ',h)"
   ]
  },
  {
   "cell_type": "code",
   "execution_count": null,
   "id": "lucky-pattern",
   "metadata": {},
   "outputs": [],
   "source": []
  }
 ],
 "metadata": {
  "kernelspec": {
   "display_name": "Python 3",
   "language": "python",
   "name": "python3"
  },
  "language_info": {
   "codemirror_mode": {
    "name": "ipython",
    "version": 3
   },
   "file_extension": ".py",
   "mimetype": "text/x-python",
   "name": "python",
   "nbconvert_exporter": "python",
   "pygments_lexer": "ipython3",
   "version": "3.8.5"
  }
 },
 "nbformat": 4,
 "nbformat_minor": 5
}
